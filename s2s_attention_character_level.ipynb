{
  "nbformat": 4,
  "nbformat_minor": 0,
  "metadata": {
    "kernelspec": {
      "display_name": "Python 3",
      "language": "python",
      "name": "python3"
    },
    "language_info": {
      "codemirror_mode": {
        "name": "ipython",
        "version": 3
      },
      "file_extension": ".py",
      "mimetype": "text/x-python",
      "name": "python",
      "nbconvert_exporter": "python",
      "pygments_lexer": "ipython3",
      "version": "3.8.5"
    },
    "latex_envs": {
      "LaTeX_envs_menu_present": true,
      "autoclose": false,
      "autocomplete": true,
      "bibliofile": "biblio.bib",
      "cite_by": "apalike",
      "current_citInitial": 1,
      "eqLabelWithNumbers": true,
      "eqNumInitial": 1,
      "hotkeys": {
        "equation": "Ctrl-E",
        "itemize": "Ctrl-I"
      },
      "labels_anchors": false,
      "latex_user_defs": false,
      "report_style_numbering": false,
      "user_envs_cfg": false
    },
    "toc": {
      "base_numbering": 1,
      "nav_menu": {},
      "number_sections": false,
      "sideBar": true,
      "skip_h1_title": false,
      "title_cell": "Table of Contents",
      "title_sidebar": "Contents",
      "toc_cell": false,
      "toc_position": {},
      "toc_section_display": true,
      "toc_window_display": false
    },
    "colab": {
      "name": "s2s-attention-character-level.ipynb",
      "provenance": [],
      "collapsed_sections": [],
      "include_colab_link": true
    }
  },
  "cells": [
    {
      "cell_type": "markdown",
      "metadata": {
        "id": "view-in-github",
        "colab_type": "text"
      },
      "source": [
        "<a href=\"https://colab.research.google.com/github/victorm0202/temas_selectos_DL/blob/main/s2s_attention_character_level.ipynb\" target=\"_parent\"><img src=\"https://colab.research.google.com/assets/colab-badge.svg\" alt=\"Open In Colab\"/></a>"
      ]
    },
    {
      "cell_type": "markdown",
      "metadata": {
        "id": "aXkxj5Y07U7q"
      },
      "source": [
        "# Sequence to sequence con atención a nivel caracteres.\n",
        "\n",
        "## Adaptado de https://wanasit.github.io/attention-based-sequence-to-sequence-in-keras.html"
      ]
    },
    {
      "cell_type": "code",
      "metadata": {
        "id": "IPyDpdnu7U7t"
      },
      "source": [
        "from __future__ import print_function\n",
        "\n",
        "import sys\n",
        "import os\n",
        "import pandas as pd\n",
        "import numpy as np\n",
        "\n",
        "from keras.layers import Input, Embedding, LSTM, TimeDistributed, Dense\n",
        "from keras.models import Model, load_model\n",
        "\n",
        "#sys.path.append(os.path.abspath(os.path.join('..')))\n",
        "\n",
        "\n",
        "INPUT_LENGTH = 20\n",
        "OUTPUT_LENGTH = 20\n"
      ],
      "execution_count": null,
      "outputs": []
    },
    {
      "cell_type": "markdown",
      "metadata": {
        "id": "wMB7Xuzk7U7v"
      },
      "source": [
        "Usamos un corpus paralelo inglés-español"
      ]
    },
    {
      "cell_type": "code",
      "metadata": {
        "id": "xrzgeWPV7U7v",
        "outputId": "289ffca9-558f-45be-9eee-6b88de37507a"
      },
      "source": [
        "import pandas as pd\n",
        "data = pd.read_table('spa.txt', header=None)\n",
        "data"
      ],
      "execution_count": null,
      "outputs": [
        {
          "data": {
            "text/html": [
              "<div>\n",
              "<style scoped>\n",
              "    .dataframe tbody tr th:only-of-type {\n",
              "        vertical-align: middle;\n",
              "    }\n",
              "\n",
              "    .dataframe tbody tr th {\n",
              "        vertical-align: top;\n",
              "    }\n",
              "\n",
              "    .dataframe thead th {\n",
              "        text-align: right;\n",
              "    }\n",
              "</style>\n",
              "<table border=\"1\" class=\"dataframe\">\n",
              "  <thead>\n",
              "    <tr style=\"text-align: right;\">\n",
              "      <th></th>\n",
              "      <th>0</th>\n",
              "      <th>1</th>\n",
              "    </tr>\n",
              "  </thead>\n",
              "  <tbody>\n",
              "    <tr>\n",
              "      <th>0</th>\n",
              "      <td>Go.</td>\n",
              "      <td>Ve.</td>\n",
              "    </tr>\n",
              "    <tr>\n",
              "      <th>1</th>\n",
              "      <td>Go.</td>\n",
              "      <td>Vete.</td>\n",
              "    </tr>\n",
              "    <tr>\n",
              "      <th>2</th>\n",
              "      <td>Go.</td>\n",
              "      <td>Vaya.</td>\n",
              "    </tr>\n",
              "    <tr>\n",
              "      <th>3</th>\n",
              "      <td>Go.</td>\n",
              "      <td>Váyase.</td>\n",
              "    </tr>\n",
              "    <tr>\n",
              "      <th>4</th>\n",
              "      <td>Hi.</td>\n",
              "      <td>Hola.</td>\n",
              "    </tr>\n",
              "    <tr>\n",
              "      <th>...</th>\n",
              "      <td>...</td>\n",
              "      <td>...</td>\n",
              "    </tr>\n",
              "    <tr>\n",
              "      <th>118959</th>\n",
              "      <td>There are four main causes of alcohol-related ...</td>\n",
              "      <td>Hay cuatro causas principales de muertes relac...</td>\n",
              "    </tr>\n",
              "    <tr>\n",
              "      <th>118960</th>\n",
              "      <td>There are mothers and fathers who will lie awa...</td>\n",
              "      <td>Hay madres y padres que se quedan despiertos d...</td>\n",
              "    </tr>\n",
              "    <tr>\n",
              "      <th>118961</th>\n",
              "      <td>A carbon footprint is the amount of carbon dio...</td>\n",
              "      <td>Una huella de carbono es la cantidad de contam...</td>\n",
              "    </tr>\n",
              "    <tr>\n",
              "      <th>118962</th>\n",
              "      <td>Since there are usually multiple websites on a...</td>\n",
              "      <td>Como suele haber varias páginas web sobre cual...</td>\n",
              "    </tr>\n",
              "    <tr>\n",
              "      <th>118963</th>\n",
              "      <td>If you want to sound like a native speaker, yo...</td>\n",
              "      <td>Si quieres sonar como un hablante nativo, debe...</td>\n",
              "    </tr>\n",
              "  </tbody>\n",
              "</table>\n",
              "<p>118964 rows × 2 columns</p>\n",
              "</div>"
            ],
            "text/plain": [
              "                                                        0  \\\n",
              "0                                                     Go.   \n",
              "1                                                     Go.   \n",
              "2                                                     Go.   \n",
              "3                                                     Go.   \n",
              "4                                                     Hi.   \n",
              "...                                                   ...   \n",
              "118959  There are four main causes of alcohol-related ...   \n",
              "118960  There are mothers and fathers who will lie awa...   \n",
              "118961  A carbon footprint is the amount of carbon dio...   \n",
              "118962  Since there are usually multiple websites on a...   \n",
              "118963  If you want to sound like a native speaker, yo...   \n",
              "\n",
              "                                                        1  \n",
              "0                                                     Ve.  \n",
              "1                                                   Vete.  \n",
              "2                                                   Vaya.  \n",
              "3                                                 Váyase.  \n",
              "4                                                   Hola.  \n",
              "...                                                   ...  \n",
              "118959  Hay cuatro causas principales de muertes relac...  \n",
              "118960  Hay madres y padres que se quedan despiertos d...  \n",
              "118961  Una huella de carbono es la cantidad de contam...  \n",
              "118962  Como suele haber varias páginas web sobre cual...  \n",
              "118963  Si quieres sonar como un hablante nativo, debe...  \n",
              "\n",
              "[118964 rows x 2 columns]"
            ]
          },
          "execution_count": 2,
          "metadata": {},
          "output_type": "execute_result"
        }
      ]
    },
    {
      "cell_type": "markdown",
      "metadata": {
        "id": "GbzjFe567U7w"
      },
      "source": [
        "# Data pre-processing"
      ]
    },
    {
      "cell_type": "code",
      "metadata": {
        "id": "xMosVokt7U7x",
        "outputId": "5192af1e-f922-474f-9ea5-08eff296e8b0"
      },
      "source": [
        "c = data.columns\n",
        "data[[c[0], c[1]]] = data[[c[1], c[0]]]\n",
        "data = data.sample(frac=1, random_state=0)\n",
        "\n",
        "data_input = [s.lower() for s in data[0]]\n",
        "data_output = [s.lower() for s in data[1]]\n",
        "\n",
        "print(data_input[0:3])\n",
        "print(data_output[0:3])"
      ],
      "execution_count": null,
      "outputs": [
        {
          "name": "stdout",
          "output_type": "stream",
          "text": [
            "['ella adora los gatos.', 'tom vio a mary irse.', 'te has puesto tan alto.']\n",
            "['she adores cats.', 'tom saw mary leave.', \"you've grown so tall.\"]\n"
          ]
        }
      ]
    },
    {
      "cell_type": "code",
      "metadata": {
        "id": "MgxvaEfU7U7x",
        "outputId": "0f0d7251-a566-4b3c-b898-a80bb976834b"
      },
      "source": [
        "data_size = len(data)\n",
        "\n",
        "training_split_index = int(data_size*60/100)\n",
        "validation_split_index = int(data_size*70/100)\n",
        "\n",
        "# We will use the first 0-60th %-tile (60%) of data for the training\n",
        "training_input  = data_input[:training_split_index]\n",
        "training_output = data_output[:training_split_index]\n",
        "\n",
        "# We will use the first 60-70th %-tile (10%) of data for the training\n",
        "validation_input = data_input[training_split_index:validation_split_index]\n",
        "validation_output = data_output[training_split_index:validation_split_index]\n",
        "\n",
        "print(len(training_input))\n",
        "print(len(validation_input))"
      ],
      "execution_count": null,
      "outputs": [
        {
          "name": "stdout",
          "output_type": "stream",
          "text": [
            "71378\n",
            "11896\n"
          ]
        }
      ]
    },
    {
      "cell_type": "markdown",
      "metadata": {
        "id": "xNT986vk7U7y"
      },
      "source": [
        "### Transform data into Numpy arrays\n",
        "\n",
        "We transform the sequences of characters into sequences of integer IDs. This will be done by using pre-written functions in `encoding` module. \n",
        "- First, `encoding.build_characters_encoding` will build encoding/decoding dictionary from the data. \n",
        "- Then, `encoding.transform` will transform the data into numpy array.\n"
      ]
    },
    {
      "cell_type": "code",
      "metadata": {
        "id": "VhouVfX77U7z",
        "outputId": "df4b6095-2ed6-42b8-86f3-d4d26a19a24c"
      },
      "source": [
        "START_CHAR_CODE = 1\n",
        "\n",
        "def encode_characters(titles):\n",
        "    count = 2\n",
        "    encoding = {}\n",
        "    decoding = {1: 'START'}\n",
        "    for c in set([c for title in titles for c in title]):\n",
        "        encoding[c] = count\n",
        "        decoding[count] = c\n",
        "        count += 1\n",
        "    return encoding, decoding, count\n",
        "\n",
        "\n",
        "input_encoding, input_decoding, input_dict_size = encode_characters(data_input)\n",
        "output_encoding, output_decoding, output_dict_size = encode_characters(data_output)\n",
        "\n",
        "\n",
        "print('input character dict size:', input_dict_size)\n",
        "print('output character dict size:', output_dict_size)\n",
        "\n",
        "print(list(input_encoding.items())[0:55])\n",
        "print(list(output_encoding.items())[0:15])"
      ],
      "execution_count": null,
      "outputs": [
        {
          "name": "stdout",
          "output_type": "stream",
          "text": [
            "input character dict size: 82\n",
            "output character dict size: 66\n",
            "[('ü', 2), ('q', 3), ('8', 4), ('s', 5), ('\"', 6), ('á', 7), ('k', 8), ('ś', 9), ('y', 10), ('&', 11), ('í', 12), ('«', 13), ('d', 14), (';', 15), ('ö', 16), (',', 17), ('u', 18), ('¨', 19), ('.', 20), ('f', 21), ('ª', 22), ('3', 23), ('ñ', 24), ('¡', 25), ('—', 26), ('é', 27), ('å', 28), ('+', 29), ('l', 30), ('w', 31), ('7', 32), ('i', 33), ('с', 34), ('è', 35), ('6', 36), ('č', 37), ('n', 38), ('¿', 39), (')', 40), ('0', 41), ('v', 42), ('t', 43), ('b', 44), ('(', 45), ('h', 46), ('m', 47), ('g', 48), ('-', 49), ('c', 50), (\"'\", 51), ('2', 52), ('\\u200b', 53), ('5', 54), ('?', 55), ('$', 56)]\n",
            "[('h', 2), ('’', 3), ('3', 4), ('ü', 5), ('q', 6), ('8', 7), ('s', 8), (':', 9), ('m', 10), ('₂', 11), ('\"', 12), ('j', 13), ('é', 14), ('ê', 15), ('+', 16)]\n"
          ]
        }
      ]
    },
    {
      "cell_type": "code",
      "metadata": {
        "id": "oTjDDFVw7U7z",
        "outputId": "343ab6a7-a9db-42dc-9976-14d0c429d8fe"
      },
      "source": [
        "def transform(encoding, data, vector_size):\n",
        "    transformed_data = np.zeros(shape=(len(data), vector_size), dtype='int')\n",
        "    for i in range(len(data)):\n",
        "        for j in range(min(len(data[i]), vector_size)):\n",
        "            transformed_data[i][j] = encoding[data[i][j]]\n",
        "    return transformed_data\n",
        "\n",
        "INPUT_LENGTH = 20\n",
        "OUTPUT_LENGTH = 20\n",
        "\n",
        "encoded_training_input = transform(input_encoding, training_input, vector_size=INPUT_LENGTH)\n",
        "encoded_training_output = transform(output_encoding, training_output, vector_size=OUTPUT_LENGTH)\n",
        "encoded_validation_input = transform(input_encoding, validation_input, vector_size=INPUT_LENGTH)\n",
        "encoded_validation_output = transform(output_encoding, validation_output, vector_size=OUTPUT_LENGTH)\n",
        "\n",
        "print('input', encoded_training_input)\n",
        "print('output', encoded_training_output)"
      ],
      "execution_count": null,
      "outputs": [
        {
          "name": "stdout",
          "output_type": "stream",
          "text": [
            "input [[60 30 30 ... 43 72  5]\n",
            " [43 72 47 ...  5 60 20]\n",
            " [43 60 58 ... 58 59 30]\n",
            " ...\n",
            " [43 60 38 ... 43 59 14]\n",
            " [50 70 60 ... 18 60 38]\n",
            " [43 72 47 ... 46 60 70]]\n",
            "output [[ 8  2 59 ...  0  0  0]\n",
            " [47 38 10 ... 59 58  0]\n",
            " [30 38 51 ... 56 17 17]\n",
            " ...\n",
            " [23 55  2 ... 10 55 22]\n",
            " [23 55 47 ... 55 18 38]\n",
            " [47 38 10 ... 38 20 59]]\n"
          ]
        }
      ]
    },
    {
      "cell_type": "markdown",
      "metadata": {
        "id": "4zPLxjMZ7U70"
      },
      "source": [
        "# Sequence-to-Sequence in Keras"
      ]
    },
    {
      "cell_type": "code",
      "metadata": {
        "id": "sBXjVvRa7U70"
      },
      "source": [
        "encoder_input = Input(shape=(INPUT_LENGTH,))\n",
        "decoder_input = Input(shape=(OUTPUT_LENGTH,))"
      ],
      "execution_count": null,
      "outputs": []
    },
    {
      "cell_type": "markdown",
      "metadata": {
        "id": "XZtUWw9X7U71"
      },
      "source": [
        "### Encoder / Decoder"
      ]
    },
    {
      "cell_type": "code",
      "metadata": {
        "id": "oCOyQ-Yl7U71",
        "outputId": "9e39e092-19b9-484c-e5d7-3230f0dd0dca"
      },
      "source": [
        "from keras.layers import SimpleRNN\n",
        "\n",
        "encoder = Embedding(input_dict_size, 64, input_length=INPUT_LENGTH, mask_zero=True)(encoder_input)\n",
        "encoder = LSTM(64, return_sequences=True, unroll=True)(encoder)\n",
        "encoder_last = encoder[:,-1,:]\n",
        "\n",
        "print('encoder', encoder)\n",
        "print('encoder_last', encoder_last)\n",
        "\n",
        "decoder = Embedding(output_dict_size, 64, input_length=OUTPUT_LENGTH, mask_zero=True)(decoder_input)\n",
        "decoder = LSTM(64, return_sequences=True, unroll=True)(decoder, initial_state=[encoder_last, encoder_last])\n",
        "\n",
        "print('decoder', decoder)"
      ],
      "execution_count": null,
      "outputs": [
        {
          "name": "stdout",
          "output_type": "stream",
          "text": [
            "encoder Tensor(\"lstm_2/Identity:0\", shape=(None, 20, 64), dtype=float32)\n",
            "encoder_last Tensor(\"strided_slice_1:0\", shape=(None, 64), dtype=float32)\n",
            "decoder Tensor(\"lstm_3/Identity:0\", shape=(None, 20, 64), dtype=float32)\n"
          ]
        }
      ]
    },
    {
      "cell_type": "markdown",
      "metadata": {
        "id": "45dutpC67U71"
      },
      "source": [
        "### Attention Mechanism\n",
        "\n",
        "Reference: \n",
        "[Effective Approaches to Attention-based Neural Machine Translation](https://arxiv.org/pdf/1508.04025.pdf)'s \n",
        "**Global Attention** with **Dot**-based scoring function (Section 3, 3.1)\n"
      ]
    },
    {
      "cell_type": "code",
      "metadata": {
        "id": "2ism6JZm7U71",
        "outputId": "9b38ecaf-2c8f-46be-dabb-8bfe94cd8180"
      },
      "source": [
        "from keras.layers import Activation, dot, concatenate\n",
        "\n",
        "# Equation (7) with 'dot' score from Section 3.1 in the paper.\n",
        "# Note that we reuse Softmax-activation layer instead of writing tensor calculation\n",
        "attention = dot([decoder, encoder], axes=[2, 2])\n",
        "attention = Activation('softmax', name='attention')(attention)\n",
        "print('attention', attention)\n",
        "\n",
        "context = dot([attention, encoder], axes=[2,1])\n",
        "print('context', context)\n",
        "\n",
        "decoder_combined_context = concatenate([context, decoder])\n",
        "print('decoder_combined_context', decoder_combined_context)\n",
        "\n",
        "# Has another weight + tanh layer as described in equation (5) of the paper\n",
        "output = TimeDistributed(Dense(64, activation=\"tanh\"))(decoder_combined_context)\n",
        "output = TimeDistributed(Dense(output_dict_size, activation=\"softmax\"))(output)\n",
        "print('output', output)\n"
      ],
      "execution_count": null,
      "outputs": [
        {
          "name": "stdout",
          "output_type": "stream",
          "text": [
            "attention Tensor(\"attention_1/Identity:0\", shape=(None, 20, 20), dtype=float32)\n",
            "context Tensor(\"dot_3/Identity:0\", shape=(None, 20, 64), dtype=float32)\n",
            "decoder_combined_context Tensor(\"concatenate_1/Identity:0\", shape=(None, 20, 128), dtype=float32)\n",
            "output Tensor(\"time_distributed_3/Identity:0\", shape=(None, 20, 66), dtype=float32)\n"
          ]
        }
      ]
    },
    {
      "cell_type": "code",
      "metadata": {
        "id": "vZQnoONw7U72",
        "outputId": "bd9cdaa4-c49d-4b28-fc33-9ab35e512992"
      },
      "source": [
        "model = Model(inputs=[encoder_input, decoder_input], outputs=[output])\n",
        "model.compile(optimizer='adam', loss='categorical_crossentropy')\n",
        "model.summary()"
      ],
      "execution_count": null,
      "outputs": [
        {
          "name": "stdout",
          "output_type": "stream",
          "text": [
            "Model: \"model_2\"\n",
            "__________________________________________________________________________________________________\n",
            "Layer (type)                    Output Shape         Param #     Connected to                     \n",
            "==================================================================================================\n",
            "input_3 (InputLayer)            [(None, 20)]         0                                            \n",
            "__________________________________________________________________________________________________\n",
            "embedding_2 (Embedding)         (None, 20, 64)       5248        input_3[0][0]                    \n",
            "__________________________________________________________________________________________________\n",
            "input_4 (InputLayer)            [(None, 20)]         0                                            \n",
            "__________________________________________________________________________________________________\n",
            "lstm_2 (LSTM)                   (None, 20, 64)       33024       embedding_2[0][0]                \n",
            "__________________________________________________________________________________________________\n",
            "embedding_3 (Embedding)         (None, 20, 64)       4224        input_4[0][0]                    \n",
            "__________________________________________________________________________________________________\n",
            "tf_op_layer_strided_slice_1 (Te [(None, 64)]         0           lstm_2[0][0]                     \n",
            "__________________________________________________________________________________________________\n",
            "lstm_3 (LSTM)                   (None, 20, 64)       33024       embedding_3[0][0]                \n",
            "__________________________________________________________________________________________________\n",
            "dot_2 (Dot)                     (None, 20, 20)       0           lstm_3[0][0]                     \n",
            "                                                                 lstm_2[0][0]                     \n",
            "__________________________________________________________________________________________________\n",
            "attention (Activation)          (None, 20, 20)       0           dot_2[0][0]                      \n",
            "__________________________________________________________________________________________________\n",
            "dot_3 (Dot)                     (None, 20, 64)       0           attention[0][0]                  \n",
            "                                                                 lstm_2[0][0]                     \n",
            "__________________________________________________________________________________________________\n",
            "concatenate_1 (Concatenate)     (None, 20, 128)      0           dot_3[0][0]                      \n",
            "                                                                 lstm_3[0][0]                     \n",
            "__________________________________________________________________________________________________\n",
            "time_distributed_2 (TimeDistrib (None, 20, 64)       8256        concatenate_1[0][0]              \n",
            "__________________________________________________________________________________________________\n",
            "time_distributed_3 (TimeDistrib (None, 20, 66)       4290        time_distributed_2[0][0]         \n",
            "==================================================================================================\n",
            "Total params: 88,066\n",
            "Trainable params: 88,066\n",
            "Non-trainable params: 0\n",
            "__________________________________________________________________________________________________\n"
          ]
        }
      ]
    },
    {
      "cell_type": "markdown",
      "metadata": {
        "id": "EtntCTuq7U72"
      },
      "source": [
        "## Training the model"
      ]
    },
    {
      "cell_type": "code",
      "metadata": {
        "id": "GlwKf-cP7U72"
      },
      "source": [
        "# Encoder Input\n",
        "training_encoder_input = encoded_training_input\n",
        "\n",
        "# Decoder Input (need padding py START_CHAR_CODE)\n",
        "training_decoder_input = np.zeros_like(encoded_training_output)\n",
        "training_decoder_input[:, 1:] = encoded_training_output[:,:-1]\n",
        "training_decoder_input[:, 0] = START_CHAR_CODE\n",
        "# Decoder Output (one-hot encode)\n",
        "training_decoder_output = np.eye(output_dict_size)[encoded_training_output.astype('int')]\n",
        "\n",
        "validation_encoder_input = encoded_validation_input\n",
        "validation_decoder_input = np.zeros_like(encoded_validation_output)\n",
        "validation_decoder_input[:, 1:] = encoded_validation_output[:,:-1]\n",
        "validation_decoder_input[:, 0] = START_CHAR_CODE\n",
        "validation_decoder_output = np.eye(output_dict_size)[encoded_validation_output.astype('int')]"
      ],
      "execution_count": null,
      "outputs": []
    },
    {
      "cell_type": "code",
      "metadata": {
        "id": "b_28E2XB7U72",
        "outputId": "a86be733-32f4-4f11-c6e2-eb0840f40fc1"
      },
      "source": [
        "if os.path.isfile('model.h5'):\n",
        "    model = load_model('model.h5')\n",
        "else:\n",
        "    model.fit(x=[training_encoder_input, training_decoder_input], y=[training_decoder_output],\n",
        "          validation_data=([validation_encoder_input, validation_decoder_input], [validation_decoder_output]),\n",
        "          verbose=2, batch_size=64, epochs=30)\n",
        "\n",
        "model.fit(x=[training_encoder_input, training_decoder_input], y=[training_decoder_output],\n",
        "          validation_data=([validation_encoder_input, validation_decoder_input], [validation_decoder_output]),\n",
        "          verbose=2, batch_size=64, epochs=50)\n",
        "\n",
        "model.save('model.h5')"
      ],
      "execution_count": null,
      "outputs": [
        {
          "name": "stdout",
          "output_type": "stream",
          "text": [
            "Epoch 1/50\n",
            "1116/1116 - 20s - loss: 0.9055 - val_loss: 0.9423\n",
            "Epoch 2/50\n",
            "1116/1116 - 19s - loss: 0.9026 - val_loss: 0.9421\n",
            "Epoch 3/50\n",
            "1116/1116 - 19s - loss: 0.9004 - val_loss: 0.9389\n",
            "Epoch 4/50\n",
            "1116/1116 - 19s - loss: 0.8978 - val_loss: 0.9387\n",
            "Epoch 5/50\n",
            "1116/1116 - 20s - loss: 0.8952 - val_loss: 0.9361\n",
            "Epoch 6/50\n",
            "1116/1116 - 20s - loss: 0.8927 - val_loss: 0.9350\n",
            "Epoch 7/50\n",
            "1116/1116 - 20s - loss: 0.8902 - val_loss: 0.9306\n",
            "Epoch 8/50\n",
            "1116/1116 - 20s - loss: 0.8882 - val_loss: 0.9305\n",
            "Epoch 9/50\n",
            "1116/1116 - 21s - loss: 0.8861 - val_loss: 0.9269\n",
            "Epoch 10/50\n",
            "1116/1116 - 20s - loss: 0.8839 - val_loss: 0.9273\n",
            "Epoch 11/50\n",
            "1116/1116 - 20s - loss: 0.8819 - val_loss: 0.9259\n",
            "Epoch 12/50\n",
            "1116/1116 - 20s - loss: 0.8799 - val_loss: 0.9266\n",
            "Epoch 13/50\n",
            "1116/1116 - 20s - loss: 0.8776 - val_loss: 0.9217\n",
            "Epoch 14/50\n",
            "1116/1116 - 20s - loss: 0.8756 - val_loss: 0.9183\n",
            "Epoch 15/50\n",
            "1116/1116 - 20s - loss: 0.8740 - val_loss: 0.9201\n",
            "Epoch 16/50\n",
            "1116/1116 - 20s - loss: 0.8723 - val_loss: 0.9163\n",
            "Epoch 17/50\n",
            "1116/1116 - 20s - loss: 0.8702 - val_loss: 0.9172\n",
            "Epoch 18/50\n",
            "1116/1116 - 20s - loss: 0.8687 - val_loss: 0.9162\n",
            "Epoch 19/50\n",
            "1116/1116 - 20s - loss: 0.8671 - val_loss: 0.9112\n",
            "Epoch 20/50\n",
            "1116/1116 - 21s - loss: 0.8652 - val_loss: 0.9146\n",
            "Epoch 21/50\n",
            "1116/1116 - 21s - loss: 0.8638 - val_loss: 0.9097\n",
            "Epoch 22/50\n",
            "1116/1116 - 21s - loss: 0.8622 - val_loss: 0.9101\n",
            "Epoch 23/50\n",
            "1116/1116 - 21s - loss: 0.8605 - val_loss: 0.9119\n",
            "Epoch 24/50\n",
            "1116/1116 - 21s - loss: 0.8591 - val_loss: 0.9121\n",
            "Epoch 25/50\n",
            "1116/1116 - 21s - loss: 0.8576 - val_loss: 0.9063\n",
            "Epoch 26/50\n",
            "1116/1116 - 21s - loss: 0.8566 - val_loss: 0.9071\n",
            "Epoch 27/50\n",
            "1116/1116 - 21s - loss: 0.8548 - val_loss: 0.9078\n",
            "Epoch 28/50\n",
            "1116/1116 - 20s - loss: 0.8535 - val_loss: 0.9052\n",
            "Epoch 29/50\n",
            "1116/1116 - 21s - loss: 0.8526 - val_loss: 0.9021\n",
            "Epoch 30/50\n",
            "1116/1116 - 21s - loss: 0.8509 - val_loss: 0.9021\n",
            "Epoch 31/50\n",
            "1116/1116 - 21s - loss: 0.8498 - val_loss: 0.8994\n",
            "Epoch 32/50\n",
            "1116/1116 - 21s - loss: 0.8482 - val_loss: 0.9005\n",
            "Epoch 33/50\n",
            "1116/1116 - 21s - loss: 0.8471 - val_loss: 0.8982\n",
            "Epoch 34/50\n",
            "1116/1116 - 21s - loss: 0.8458 - val_loss: 0.9021\n",
            "Epoch 35/50\n",
            "1116/1116 - 21s - loss: 0.8447 - val_loss: 0.8976\n",
            "Epoch 36/50\n",
            "1116/1116 - 21s - loss: 0.8436 - val_loss: 0.8945\n",
            "Epoch 37/50\n",
            "1116/1116 - 21s - loss: 0.8422 - val_loss: 0.8967\n",
            "Epoch 38/50\n",
            "1116/1116 - 21s - loss: 0.8413 - val_loss: 0.8935\n",
            "Epoch 39/50\n",
            "1116/1116 - 21s - loss: 0.8401 - val_loss: 0.8972\n",
            "Epoch 40/50\n",
            "1116/1116 - 22s - loss: 0.8390 - val_loss: 0.8956\n",
            "Epoch 41/50\n",
            "1116/1116 - 21s - loss: 0.8378 - val_loss: 0.8906\n",
            "Epoch 42/50\n",
            "1116/1116 - 22s - loss: 0.8372 - val_loss: 0.8964\n",
            "Epoch 43/50\n",
            "1116/1116 - 22s - loss: 0.8360 - val_loss: 0.8916\n",
            "Epoch 44/50\n",
            "1116/1116 - 22s - loss: 0.8350 - val_loss: 0.8886\n",
            "Epoch 45/50\n",
            "1116/1116 - 21s - loss: 0.8341 - val_loss: 0.8916\n",
            "Epoch 46/50\n",
            "1116/1116 - 22s - loss: 0.8330 - val_loss: 0.8876\n",
            "Epoch 47/50\n",
            "1116/1116 - 22s - loss: 0.8323 - val_loss: 0.8894\n",
            "Epoch 48/50\n",
            "1116/1116 - 22s - loss: 0.8315 - val_loss: 0.8889\n",
            "Epoch 49/50\n",
            "1116/1116 - 21s - loss: 0.8304 - val_loss: 0.8876\n",
            "Epoch 50/50\n",
            "1116/1116 - 21s - loss: 0.8296 - val_loss: 0.8890\n"
          ]
        }
      ]
    },
    {
      "cell_type": "markdown",
      "metadata": {
        "id": "RER6ZZh_7U73"
      },
      "source": [
        "### Testing the model\n"
      ]
    },
    {
      "cell_type": "code",
      "metadata": {
        "id": "kWepi4iI7U73"
      },
      "source": [
        "def generate(text):\n",
        "    encoder_input = transform(input_encoding, [text.lower()], 20)\n",
        "    decoder_input = np.zeros(shape=(len(encoder_input), OUTPUT_LENGTH))\n",
        "    decoder_input[:,0] = START_CHAR_CODE\n",
        "    for i in range(1, OUTPUT_LENGTH):\n",
        "        output = model.predict([encoder_input, decoder_input]).argmax(axis=2)\n",
        "        decoder_input[:,i] = output[:,i]\n",
        "    return decoder_input[0, 1:]\n",
        "\n",
        "def decode(decoding, sequence):\n",
        "    text = ''\n",
        "    for i in sequence:\n",
        "        if i == 0:\n",
        "            break\n",
        "        text += decoding[i]\n",
        "    return text\n",
        "\n",
        "def to_english(text):\n",
        "    decoder_output = generate(text)\n",
        "    return decode(output_decoding, decoder_output)"
      ],
      "execution_count": null,
      "outputs": []
    },
    {
      "cell_type": "code",
      "metadata": {
        "id": "JSVyWzGi7U73",
        "outputId": "13930216-85cf-4b19-9681-6c0aff326c67"
      },
      "source": [
        "to_english('vamos a la escuela')"
      ],
      "execution_count": null,
      "outputs": [
        {
          "data": {
            "text/plain": [
              "\"let's go to the sam\""
            ]
          },
          "execution_count": 106,
          "metadata": {},
          "output_type": "execute_result"
        }
      ]
    },
    {
      "cell_type": "markdown",
      "metadata": {
        "id": "RG9Jfd437U73"
      },
      "source": [
        "# Visualize Attention\n",
        "\n",
        "## OJO: solo lo pongo como referencia, ya que al ser la traducción a nivel de caracteres, no tiene tanto sentido como cuando es a nivel de palabras (ver el otro notebook)\n",
        "\n",
        "The next step is visualizing the attention values of the medel during the translation. \n",
        "\n",
        "To do that, the first step is to locate \"attention\" layer of the model. The attention layer is the 7th layers of the model (`model.layers[7]`), which is the softmax activation-layer after dot-score. Or we can also simply call `model.get_layer('attention')` as we previously name the layer as \"attention\"."
      ]
    },
    {
      "cell_type": "code",
      "metadata": {
        "id": "MMuz9PsD7U74",
        "outputId": "ba5f04c2-ee29-4148-985a-c4ed570c1fe0"
      },
      "source": [
        "layers = model.layers\n",
        "for l in layers:\n",
        "    print('%s\\tname:%s' % (str(l), l.name))\n",
        "    \n",
        "assert(model.layers[8] == model.get_layer('attention'))"
      ],
      "execution_count": null,
      "outputs": [
        {
          "name": "stdout",
          "output_type": "stream",
          "text": [
            "<tensorflow.python.keras.engine.input_layer.InputLayer object at 0x7fd2f810f430>\tname:input_3\n",
            "<tensorflow.python.keras.layers.embeddings.Embedding object at 0x7fd2f810fc10>\tname:embedding_2\n",
            "<tensorflow.python.keras.engine.input_layer.InputLayer object at 0x7fd2f810f100>\tname:input_4\n",
            "<tensorflow.python.keras.layers.recurrent_v2.LSTM object at 0x7fd2f810f040>\tname:lstm_2\n",
            "<tensorflow.python.keras.layers.embeddings.Embedding object at 0x7fd2f906e250>\tname:embedding_3\n",
            "<tensorflow.python.keras.engine.base_layer.TensorFlowOpLayer object at 0x7fd2f906ef40>\tname:tf_op_layer_strided_slice_1\n",
            "<tensorflow.python.keras.layers.recurrent_v2.LSTM object at 0x7fd2f906e6a0>\tname:lstm_3\n",
            "<tensorflow.python.keras.layers.merge.Dot object at 0x7fd2f905cdc0>\tname:dot_2\n",
            "<tensorflow.python.keras.layers.core.Activation object at 0x7fd2f90521f0>\tname:attention\n",
            "<tensorflow.python.keras.layers.merge.Dot object at 0x7fd2f9052e80>\tname:dot_3\n",
            "<tensorflow.python.keras.layers.merge.Concatenate object at 0x7fd2f9052be0>\tname:concatenate_1\n",
            "<tensorflow.python.keras.layers.wrappers.TimeDistributed object at 0x7fd2f9052d90>\tname:time_distributed_2\n",
            "<tensorflow.python.keras.layers.wrappers.TimeDistributed object at 0x7fd2f90787c0>\tname:time_distributed_3\n"
          ]
        }
      ]
    },
    {
      "cell_type": "code",
      "metadata": {
        "id": "ZuJilDoB7U74",
        "outputId": "e688574e-97e3-4b57-95b3-2c6c1578c5ab"
      },
      "source": [
        "model.layers[8].name"
      ],
      "execution_count": null,
      "outputs": [
        {
          "data": {
            "text/plain": [
              "'attention'"
            ]
          },
          "execution_count": 93,
          "metadata": {},
          "output_type": "execute_result"
        }
      ]
    },
    {
      "cell_type": "markdown",
      "metadata": {
        "id": "5YAoe9KD7U74"
      },
      "source": [
        "We also need to re-build the model so that it returns the output from the attention layer in addition to the normal output."
      ]
    },
    {
      "cell_type": "code",
      "metadata": {
        "id": "ZX3pXWMH7U74",
        "outputId": "49c4b6db-562f-4804-e89e-5054624bcd18"
      },
      "source": [
        "attention_layer = model.get_layer('attention') # or model.layers[7]\n",
        "attention_model = Model(inputs=model.inputs, outputs=model.outputs + [attention_layer.output])\n",
        "\n",
        "print(attention_model)\n",
        "print(attention_model.output_shape)"
      ],
      "execution_count": null,
      "outputs": [
        {
          "name": "stdout",
          "output_type": "stream",
          "text": [
            "<tensorflow.python.keras.engine.training.Model object at 0x7fd3ec16c790>\n",
            "[(None, 20, 66), (None, 20, 20)]\n"
          ]
        }
      ]
    },
    {
      "cell_type": "code",
      "metadata": {
        "id": "UulsgGS17U74"
      },
      "source": [
        "%matplotlib inline  \n",
        "import matplotlib\n",
        "import matplotlib.pyplot as plt\n",
        "import seaborn\n",
        "\n",
        "seaborn.set(font=['AppleMyungjo'], font_scale=3)\n",
        "\n",
        "def attent_and_generate(text):\n",
        "    encoder_input = transform(input_encoding, [text.lower()], 20)\n",
        "    decoder_input = np.zeros(shape=(len(encoder_input), OUTPUT_LENGTH))\n",
        "    decoder_input[:,0] = START_CHAR_CODE\n",
        "    \n",
        "    for i in range(1, OUTPUT_LENGTH):\n",
        "        output, attention = attention_model.predict([encoder_input, decoder_input])\n",
        "        decoder_input[:,i] = output.argmax(axis=2)[:,i]\n",
        "        attention_density = attention[0]\n",
        "        decoded_output = decode(output_decoding, decoder_input[0][1:])\n",
        "        \n",
        "    return attention_density, decoded_output\n",
        "\n",
        "\n",
        "def visualize(text):\n",
        "    attention_density, translation = attent_and_generate(text)\n",
        "\n",
        "    plt.clf()\n",
        "    plt.figure(figsize=(28,12))\n",
        "    ax = seaborn.heatmap(attention_density[:len(translation), :len(text)+1],\n",
        "        xticklabels=[w for w in text],\n",
        "        yticklabels=[w for w in translation])\n",
        "\n",
        "    ax.invert_yaxis()\n",
        "    plt.show()\n"
      ],
      "execution_count": null,
      "outputs": []
    },
    {
      "cell_type": "code",
      "metadata": {
        "id": "p8FcpF8L7U74",
        "outputId": "53266fd7-f6f1-4cd1-edb0-390a7d4bed24"
      },
      "source": [
        "visualize('estoy en casa')"
      ],
      "execution_count": null,
      "outputs": [
        {
          "data": {
            "text/plain": [
              "<Figure size 432x288 with 0 Axes>"
            ]
          },
          "metadata": {},
          "output_type": "display_data"
        },
        {
          "data": {
            "image/png": "[encoded data removed]",
            "text/plain": [
              "<Figure size 2016x864 with 2 Axes>"
            ]
          },
          "metadata": {},
          "output_type": "display_data"
        }
      ]
    },
    {
      "cell_type": "code",
      "metadata": {
        "collapsed": true,
        "id": "-qm7_uc17U75"
      },
      "source": [
        ""
      ],
      "execution_count": null,
      "outputs": []
    },
    {
      "cell_type": "code",
      "metadata": {
        "collapsed": true,
        "id": "Te-C3SzU7U75"
      },
      "source": [
        ""
      ],
      "execution_count": null,
      "outputs": []
    }
  ]
}